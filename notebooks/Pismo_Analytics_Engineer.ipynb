{
  "cells": [
    {
      "cell_type": "markdown",
      "metadata": {
        "id": "view-in-github",
        "colab_type": "text"
      },
      "source": [
        "<a href=\"https://colab.research.google.com/github/marcelo-vitti/coffee_and_currency_rates_case/blob/main/notebooks/Pismo_Analytics_Engineer.ipynb\" target=\"_parent\"><img src=\"https://colab.research.google.com/assets/colab-badge.svg\" alt=\"Open In Colab\"/></a>"
      ]
    },
    {
      "cell_type": "markdown",
      "metadata": {
        "id": "d-cWwyqFHupz"
      },
      "source": [
        "# Get Currency Rates to SQLite Table"
      ]
    },
    {
      "cell_type": "markdown",
      "source": [],
      "metadata": {
        "id": "Y-R8qYnUXbBu"
      }
    },
    {
      "cell_type": "code",
      "execution_count": 1,
      "metadata": {
        "id": "fnNxl6alR--3"
      },
      "outputs": [],
      "source": [
        "import pandas as pd\n",
        "import requests\n",
        "import json\n",
        "import datetime\n",
        "\n",
        "from datetime import date, timedelta"
      ]
    },
    {
      "cell_type": "code",
      "execution_count": 138,
      "metadata": {
        "id": "IbJhhIstYEO8"
      },
      "outputs": [],
      "source": [
        "# These Keys could be in environment variables\n",
        "\n",
        "API_KEY = \"e1c062bb0aa0437d98a37e147d0093d5\"\n",
        "API_LINK = \"https://openexchangerates.org/api/historical/\"\n",
        "START_DATE = date(2023, 1, 1)\n",
        "END_DATE = date(2023, 3, 29)\n",
        "CURRENCY_SOURCE = \"USD\"\n",
        "DESIRED_CURRENCIES = [\"BRL\", \"CLP\", \"EUR\"]"
      ]
    },
    {
      "cell_type": "code",
      "execution_count": 139,
      "metadata": {
        "id": "Ncxurb8FeIC5"
      },
      "outputs": [],
      "source": [
        "def enable_log_messages():\n",
        "        \n",
        "  import logging\n",
        "\n",
        "  logger = logging.getLogger()\n",
        "  logger.setLevel(logging.INFO)\n",
        "\n",
        "  return logging"
      ]
    },
    {
      "cell_type": "code",
      "execution_count": 140,
      "metadata": {
        "id": "iYwIwsZlCbaO"
      },
      "outputs": [],
      "source": [
        "def daterange(start_date, end_date):\n",
        "\n",
        "    for n in range(int((end_date - start_date).days)):\n",
        "      \n",
        "        yield start_date + timedelta(n)"
      ]
    },
    {
      "cell_type": "code",
      "execution_count": 141,
      "metadata": {
        "id": "QfDonB4bCbc6",
        "colab": {
          "base_uri": "https://localhost:8080/"
        },
        "outputId": "869e69ba-9ae2-4723-ed62-3de6d893745e"
      },
      "outputs": [
        {
          "output_type": "stream",
          "name": "stderr",
          "text": [
            "INFO:root:[INFO] Getting currency rate for date 2023-03-28.\n"
          ]
        }
      ],
      "source": [
        "data = []\n",
        "\n",
        "for single_date in daterange(START_DATE, END_DATE):\n",
        "\n",
        "  api_call_date = single_date.strftime(\"%Y-%m-%d\")\n",
        "\n",
        "  logging = enable_log_messages()\n",
        "  logging.info(f\"[INFO] Getting currency rate for date {api_call_date}.\")\n",
        "\n",
        "  url = f\"{API_LINK}{api_call_date}.json?app_id={API_KEY}&show_alternative=false&prettyprint=false\"\n",
        "\n",
        "  payload = {}\n",
        "  headers= {\n",
        "    \"apikey\": API_KEY\n",
        "  }\n",
        "\n",
        "  response = requests.request(\"GET\", url, headers=headers, data = payload)\n",
        "\n",
        "  response_json = response.json()\n",
        "\n",
        "  # On this for loop I am creating the table in the format that the challenge suggests \"Esses dados devem ser \n",
        "  # estruturados (Moeda, Câmbio e Data)\", but, maybe a better approach to make it easier to query would be \n",
        "  # to have just one line per date with all currencies instead of one line per date per currency.\n",
        "  for key, value in response_json[\"rates\"].items():\n",
        "\n",
        "    if key in DESIRED_CURRENCIES:\n",
        "\n",
        "      return_dict = {\n",
        "        \"activity_date\": api_call_date,\n",
        "        \"currency\": key,\n",
        "        \"rate\": value,\n",
        "      } \n",
        "\n",
        "      data.append(return_dict)\n"
      ]
    },
    {
      "cell_type": "code",
      "execution_count": 6,
      "metadata": {
        "id": "qEBUTFhFDzwz",
        "colab": {
          "base_uri": "https://localhost:8080/",
          "height": 424
        },
        "outputId": "2226b0da-99da-4572-9615-9ed36d290911"
      },
      "outputs": [
        {
          "output_type": "execute_result",
          "data": {
            "text/plain": [
              "     activity_date currency        rate\n",
              "0       2021-01-01      BRL    5.193400\n",
              "1       2021-01-01      CLP  710.499390\n",
              "2       2021-01-01      EUR    0.822681\n",
              "3       2021-01-02      BRL    5.193400\n",
              "4       2021-01-02      CLP  710.499390\n",
              "...            ...      ...         ...\n",
              "2446    2023-03-27      CLP  806.230000\n",
              "2447    2023-03-27      EUR    0.925365\n",
              "2448    2023-03-28      BRL    5.165900\n",
              "2449    2023-03-28      CLP  796.825397\n",
              "2450    2023-03-28      EUR    0.922607\n",
              "\n",
              "[2451 rows x 3 columns]"
            ],
            "text/html": [
              "\n",
              "  <div id=\"df-a3f0cee1-c37b-4713-b39e-9e23a4c0e3bd\">\n",
              "    <div class=\"colab-df-container\">\n",
              "      <div>\n",
              "<style scoped>\n",
              "    .dataframe tbody tr th:only-of-type {\n",
              "        vertical-align: middle;\n",
              "    }\n",
              "\n",
              "    .dataframe tbody tr th {\n",
              "        vertical-align: top;\n",
              "    }\n",
              "\n",
              "    .dataframe thead th {\n",
              "        text-align: right;\n",
              "    }\n",
              "</style>\n",
              "<table border=\"1\" class=\"dataframe\">\n",
              "  <thead>\n",
              "    <tr style=\"text-align: right;\">\n",
              "      <th></th>\n",
              "      <th>activity_date</th>\n",
              "      <th>currency</th>\n",
              "      <th>rate</th>\n",
              "    </tr>\n",
              "  </thead>\n",
              "  <tbody>\n",
              "    <tr>\n",
              "      <th>0</th>\n",
              "      <td>2021-01-01</td>\n",
              "      <td>BRL</td>\n",
              "      <td>5.193400</td>\n",
              "    </tr>\n",
              "    <tr>\n",
              "      <th>1</th>\n",
              "      <td>2021-01-01</td>\n",
              "      <td>CLP</td>\n",
              "      <td>710.499390</td>\n",
              "    </tr>\n",
              "    <tr>\n",
              "      <th>2</th>\n",
              "      <td>2021-01-01</td>\n",
              "      <td>EUR</td>\n",
              "      <td>0.822681</td>\n",
              "    </tr>\n",
              "    <tr>\n",
              "      <th>3</th>\n",
              "      <td>2021-01-02</td>\n",
              "      <td>BRL</td>\n",
              "      <td>5.193400</td>\n",
              "    </tr>\n",
              "    <tr>\n",
              "      <th>4</th>\n",
              "      <td>2021-01-02</td>\n",
              "      <td>CLP</td>\n",
              "      <td>710.499390</td>\n",
              "    </tr>\n",
              "    <tr>\n",
              "      <th>...</th>\n",
              "      <td>...</td>\n",
              "      <td>...</td>\n",
              "      <td>...</td>\n",
              "    </tr>\n",
              "    <tr>\n",
              "      <th>2446</th>\n",
              "      <td>2023-03-27</td>\n",
              "      <td>CLP</td>\n",
              "      <td>806.230000</td>\n",
              "    </tr>\n",
              "    <tr>\n",
              "      <th>2447</th>\n",
              "      <td>2023-03-27</td>\n",
              "      <td>EUR</td>\n",
              "      <td>0.925365</td>\n",
              "    </tr>\n",
              "    <tr>\n",
              "      <th>2448</th>\n",
              "      <td>2023-03-28</td>\n",
              "      <td>BRL</td>\n",
              "      <td>5.165900</td>\n",
              "    </tr>\n",
              "    <tr>\n",
              "      <th>2449</th>\n",
              "      <td>2023-03-28</td>\n",
              "      <td>CLP</td>\n",
              "      <td>796.825397</td>\n",
              "    </tr>\n",
              "    <tr>\n",
              "      <th>2450</th>\n",
              "      <td>2023-03-28</td>\n",
              "      <td>EUR</td>\n",
              "      <td>0.922607</td>\n",
              "    </tr>\n",
              "  </tbody>\n",
              "</table>\n",
              "<p>2451 rows × 3 columns</p>\n",
              "</div>\n",
              "      <button class=\"colab-df-convert\" onclick=\"convertToInteractive('df-a3f0cee1-c37b-4713-b39e-9e23a4c0e3bd')\"\n",
              "              title=\"Convert this dataframe to an interactive table.\"\n",
              "              style=\"display:none;\">\n",
              "        \n",
              "  <svg xmlns=\"http://www.w3.org/2000/svg\" height=\"24px\"viewBox=\"0 0 24 24\"\n",
              "       width=\"24px\">\n",
              "    <path d=\"M0 0h24v24H0V0z\" fill=\"none\"/>\n",
              "    <path d=\"M18.56 5.44l.94 2.06.94-2.06 2.06-.94-2.06-.94-.94-2.06-.94 2.06-2.06.94zm-11 1L8.5 8.5l.94-2.06 2.06-.94-2.06-.94L8.5 2.5l-.94 2.06-2.06.94zm10 10l.94 2.06.94-2.06 2.06-.94-2.06-.94-.94-2.06-.94 2.06-2.06.94z\"/><path d=\"M17.41 7.96l-1.37-1.37c-.4-.4-.92-.59-1.43-.59-.52 0-1.04.2-1.43.59L10.3 9.45l-7.72 7.72c-.78.78-.78 2.05 0 2.83L4 21.41c.39.39.9.59 1.41.59.51 0 1.02-.2 1.41-.59l7.78-7.78 2.81-2.81c.8-.78.8-2.07 0-2.86zM5.41 20L4 18.59l7.72-7.72 1.47 1.35L5.41 20z\"/>\n",
              "  </svg>\n",
              "      </button>\n",
              "      \n",
              "  <style>\n",
              "    .colab-df-container {\n",
              "      display:flex;\n",
              "      flex-wrap:wrap;\n",
              "      gap: 12px;\n",
              "    }\n",
              "\n",
              "    .colab-df-convert {\n",
              "      background-color: #E8F0FE;\n",
              "      border: none;\n",
              "      border-radius: 50%;\n",
              "      cursor: pointer;\n",
              "      display: none;\n",
              "      fill: #1967D2;\n",
              "      height: 32px;\n",
              "      padding: 0 0 0 0;\n",
              "      width: 32px;\n",
              "    }\n",
              "\n",
              "    .colab-df-convert:hover {\n",
              "      background-color: #E2EBFA;\n",
              "      box-shadow: 0px 1px 2px rgba(60, 64, 67, 0.3), 0px 1px 3px 1px rgba(60, 64, 67, 0.15);\n",
              "      fill: #174EA6;\n",
              "    }\n",
              "\n",
              "    [theme=dark] .colab-df-convert {\n",
              "      background-color: #3B4455;\n",
              "      fill: #D2E3FC;\n",
              "    }\n",
              "\n",
              "    [theme=dark] .colab-df-convert:hover {\n",
              "      background-color: #434B5C;\n",
              "      box-shadow: 0px 1px 3px 1px rgba(0, 0, 0, 0.15);\n",
              "      filter: drop-shadow(0px 1px 2px rgba(0, 0, 0, 0.3));\n",
              "      fill: #FFFFFF;\n",
              "    }\n",
              "  </style>\n",
              "\n",
              "      <script>\n",
              "        const buttonEl =\n",
              "          document.querySelector('#df-a3f0cee1-c37b-4713-b39e-9e23a4c0e3bd button.colab-df-convert');\n",
              "        buttonEl.style.display =\n",
              "          google.colab.kernel.accessAllowed ? 'block' : 'none';\n",
              "\n",
              "        async function convertToInteractive(key) {\n",
              "          const element = document.querySelector('#df-a3f0cee1-c37b-4713-b39e-9e23a4c0e3bd');\n",
              "          const dataTable =\n",
              "            await google.colab.kernel.invokeFunction('convertToInteractive',\n",
              "                                                     [key], {});\n",
              "          if (!dataTable) return;\n",
              "\n",
              "          const docLinkHtml = 'Like what you see? Visit the ' +\n",
              "            '<a target=\"_blank\" href=https://colab.research.google.com/notebooks/data_table.ipynb>data table notebook</a>'\n",
              "            + ' to learn more about interactive tables.';\n",
              "          element.innerHTML = '';\n",
              "          dataTable['output_type'] = 'display_data';\n",
              "          await google.colab.output.renderOutput(dataTable, element);\n",
              "          const docLink = document.createElement('div');\n",
              "          docLink.innerHTML = docLinkHtml;\n",
              "          element.appendChild(docLink);\n",
              "        }\n",
              "      </script>\n",
              "    </div>\n",
              "  </div>\n",
              "  "
            ]
          },
          "metadata": {},
          "execution_count": 6
        }
      ],
      "source": [
        "df_currency_rates = pd.DataFrame(data)\n",
        "df_currency_rates"
      ]
    },
    {
      "cell_type": "code",
      "source": [
        "df_currency_rates[\"activity_date\"] = df_currency_rates[\"activity_date\"].astype('datetime64[ns]')"
      ],
      "metadata": {
        "id": "ao0Afvu6-pwg"
      },
      "execution_count": 7,
      "outputs": []
    },
    {
      "cell_type": "code",
      "source": [
        "df_currency_rates[\"is_month_end\"] = df_currency_rates.activity_date.apply(lambda x: True if x.is_month_end else False)\n",
        "df_currency_rates[\"is_year_end\"] = df_currency_rates.activity_date.apply(lambda x: True if x.is_year_end else False)"
      ],
      "metadata": {
        "id": "k7cGxgYt9bjt"
      },
      "execution_count": 8,
      "outputs": []
    },
    {
      "cell_type": "code",
      "execution_count": 9,
      "metadata": {
        "id": "BTpKfahsHzl4"
      },
      "outputs": [],
      "source": [
        "import sqlite3\n",
        "\n",
        "conn = sqlite3.connect(\"coffee_and_currencies.db\")"
      ]
    },
    {
      "cell_type": "code",
      "source": [
        "df_currency_rates.to_sql(\"currency_rates_data\", conn, if_exists=\"replace\")"
      ],
      "metadata": {
        "id": "fZx5acJJ9dd3",
        "colab": {
          "base_uri": "https://localhost:8080/"
        },
        "outputId": "fab9e56f-8238-4384-804e-193d36546edc"
      },
      "execution_count": 10,
      "outputs": [
        {
          "output_type": "execute_result",
          "data": {
            "text/plain": [
              "2451"
            ]
          },
          "metadata": {},
          "execution_count": 10
        }
      ]
    },
    {
      "cell_type": "code",
      "source": [
        "conn.execute(\n",
        "    \"\"\"\n",
        "    create table IF NOT EXISTS currency_rates as \n",
        "    select * from currency_rates_data\n",
        "    \"\"\")"
      ],
      "metadata": {
        "id": "j_qbJ3B39itV",
        "colab": {
          "base_uri": "https://localhost:8080/"
        },
        "outputId": "da81ad96-7b59-4351-cbab-e4811a68770e"
      },
      "execution_count": 11,
      "outputs": [
        {
          "output_type": "execute_result",
          "data": {
            "text/plain": [
              "<sqlite3.Cursor at 0x7f5cfd8cbe30>"
            ]
          },
          "metadata": {},
          "execution_count": 11
        }
      ]
    },
    {
      "cell_type": "code",
      "source": [
        "conn.commit()\n"
      ],
      "metadata": {
        "id": "8oLsoYRH9vyF"
      },
      "execution_count": 12,
      "outputs": []
    },
    {
      "cell_type": "code",
      "source": [
        "conn.close()"
      ],
      "metadata": {
        "id": "h4YzA2BR-q2f"
      },
      "execution_count": 13,
      "outputs": []
    },
    {
      "cell_type": "code",
      "source": [],
      "metadata": {
        "id": "EPqHHARAk30r"
      },
      "execution_count": 13,
      "outputs": []
    },
    {
      "cell_type": "markdown",
      "source": [
        "# Get Coffee to SQLite Table"
      ],
      "metadata": {
        "id": "dZfUtQkufiSs"
      }
    },
    {
      "cell_type": "code",
      "source": [
        "coffee = pd.read_csv(\"https://raw.githubusercontent.com/marcelo-vitti/coffee_and_currency_rates_case/main/external_sources/coffee.csv\")"
      ],
      "metadata": {
        "id": "Oib1qQK0fnA_"
      },
      "execution_count": 14,
      "outputs": []
    },
    {
      "cell_type": "code",
      "source": [
        "conn = sqlite3.connect(\"coffee_and_currencies.db\")\n",
        "\n",
        "coffee.to_sql(\"coffee_data\", conn, if_exists=\"replace\")\n",
        "\n",
        "conn.execute(\n",
        "    \"\"\"\n",
        "    create table IF NOT EXISTS coffee as \n",
        "    select * from coffee_data\n",
        "    \"\"\")\n",
        "\n",
        "conn.commit()\n"
      ],
      "metadata": {
        "id": "WgZBNrx7f-wA"
      },
      "execution_count": 15,
      "outputs": []
    },
    {
      "cell_type": "code",
      "source": [
        "conn.close()"
      ],
      "metadata": {
        "id": "A-5WyzsqgeS2"
      },
      "execution_count": 16,
      "outputs": []
    },
    {
      "cell_type": "code",
      "source": [],
      "metadata": {
        "id": "nt4Mw4eRglYw"
      },
      "execution_count": 16,
      "outputs": []
    },
    {
      "cell_type": "markdown",
      "source": [
        "# Get SQL Queries results"
      ],
      "metadata": {
        "id": "JIAgHYxOhkax"
      }
    },
    {
      "cell_type": "code",
      "source": [
        "# I had a problem getting the query formatting when I was getting it from the Github so I put it hardcoded here.\n",
        "\n",
        "coffee_per_year_and_rates_sql = \"\"\"\n",
        "WITH coffee_and_currency_base AS (\n",
        "\n",
        "  SELECT\n",
        "    strftime(\"%Y\", coffee.Date) AS activity_year,\n",
        "    coffee.Date,\n",
        "    coffee.Volume,  \n",
        "    AVG(\n",
        "    CASE\n",
        "      WHEN currency_rates.currency = \"USDBRL\" THEN currency_rates.rate\n",
        "      ELSE NULL\n",
        "    END) AS brl_usd_rate,\n",
        "    AVG(\n",
        "      CASE\n",
        "        WHEN currency_rates.currency = \"USDCLP\" THEN currency_rates.rate\n",
        "        ELSE NULL\n",
        "      END) AS clp_usd_rate,\n",
        "    AVG(\n",
        "      CASE\n",
        "        WHEN currency_rates.currency = \"USDEUR\" THEN currency_rates.rate\n",
        "        ELSE NULL\n",
        "      END) AS eur_usd_rate,\n",
        "    ROW_NUMBER() OVER (\n",
        "      PARTITION BY strftime(\"%Y\", coffee.Date) \n",
        "      ORDER BY currency_rates.activity_date DESC\n",
        "    ) AS row_number_desc\n",
        "\n",
        "  FROM coffee\n",
        "\n",
        "    LEFT JOIN currency_rates ON coffee.Date = DATE(currency_rates.activity_date)\n",
        "\n",
        "  GROUP BY activity_year, Date, Close\n",
        "\n",
        ")\n",
        "\n",
        "SELECT \n",
        "  activity_year,\n",
        "  SUM(CASE WHEN row_number_desc = 1 THEN brl_usd_rate ELSE 0 END) AS brl_usd_rate,\n",
        "  SUM(CASE WHEN row_number_desc = 1 THEN clp_usd_rate ELSE 0 END) AS clp_usd_rate,\n",
        "  SUM(CASE WHEN row_number_desc = 1 THEN eur_usd_rate ELSE 0 END) AS eur_usd_rate,\n",
        "  SUM(Volume)                                                     AS total_negotiated_coffee\n",
        "\n",
        "FROM coffee_and_currency_base\n",
        "\n",
        "GROUP BY activity_year\n",
        "\"\"\"\n",
        "\n",
        "\n",
        "highest_coffee_volume_and_currency_closing_sql = \"\"\"\n",
        "-- If we have a currency_rates table with all currencies in just one line we wouldn't need to do this treatment, it would be easier.\n",
        "-- I am doing an inner join to bring only data from coffee in dates that we have currency data.\n",
        "\n",
        "SELECT\n",
        "  coffee.Date AS activity_date,\n",
        "  coffee.High AS higher_coffee_volume,\n",
        "  AVG(\n",
        "    CASE\n",
        "      WHEN currency_rates.currency = \"BRL\" THEN currency_rates.rate\n",
        "      ELSE NULL\n",
        "    END) AS brl_usd_rate,\n",
        "  AVG(\n",
        "    CASE\n",
        "      WHEN currency_rates.currency = \"CLP\" THEN currency_rates.rate\n",
        "      ELSE NULL\n",
        "    END) AS clp_usd_rate,\n",
        "  AVG(\n",
        "    CASE\n",
        "      WHEN currency_rates.currency = \"EUR\" THEN currency_rates.rate\n",
        "      ELSE NULL\n",
        "    END) AS eur_usd_rate\n",
        "  \n",
        "FROM coffee\n",
        "\n",
        "  LEFT JOIN currency_rates ON coffee.Date = DATE(currency_rates.activity_date)\n",
        "\n",
        "GROUP BY coffee.Date, coffee.High\n",
        "\"\"\"\n",
        "\n",
        "\n",
        "negotiated_coffee_average_sql = \"\"\"\n",
        "SELECT\n",
        "  \"yearly\"                    AS analysis_interval,\n",
        "  strftime(\"%Y\", coffee.Date) AS activity_date,\n",
        "  AVG(Volume)                 AS average_of_negotiated_coffee\n",
        "\n",
        "FROM coffee\n",
        "\n",
        "GROUP BY strftime(\"%Y\", coffee.Date)\n",
        "\n",
        "UNION ALL\n",
        "\n",
        "SELECT\n",
        "  \"monthly\"                      AS analysis_interval,\n",
        "  strftime(\"%Y-%m\", coffee.Date) AS activity_date,\n",
        "  AVG(Volume)                    AS average_of_negotiated_coffee\n",
        "\n",
        "FROM coffee\n",
        "\n",
        "GROUP BY strftime(\"%Y-%m\", coffee.Date)\n",
        "\"\"\"\n"
      ],
      "metadata": {
        "id": "EdeoS5wHiyoJ"
      },
      "execution_count": 129,
      "outputs": []
    },
    {
      "cell_type": "code",
      "source": [
        "conn = sqlite3.connect(\"coffee_and_currencies.db\")"
      ],
      "metadata": {
        "id": "NtqB9zjG_LNV"
      },
      "execution_count": 130,
      "outputs": []
    },
    {
      "cell_type": "markdown",
      "source": [
        "**coffee_per_year_and_rates:** Maior volume negociado de café no dia e as cotações de fechamento"
      ],
      "metadata": {
        "id": "H2Yvb48-_QyH"
      }
    },
    {
      "cell_type": "code",
      "source": [
        "df_coffee_per_year_and_rates = pd.read_sql_query(coffee_per_year_and_rates_sql, conn)\n",
        "df_coffee_per_year_and_rates.head()"
      ],
      "metadata": {
        "id": "SaSsuViBhlts",
        "colab": {
          "base_uri": "https://localhost:8080/",
          "height": 175
        },
        "outputId": "75626747-bddc-4a41-8d9c-8b18de1aac7d"
      },
      "execution_count": 131,
      "outputs": [
        {
          "output_type": "execute_result",
          "data": {
            "text/plain": [
              "  activity_year  brl_usd_rate  clp_usd_rate  eur_usd_rate  \\\n",
              "0          2019             0             0             0   \n",
              "1          2020             0             0             0   \n",
              "2          2021             0             0             0   \n",
              "3          2022             0             0             0   \n",
              "\n",
              "   total_negotiated_coffee  \n",
              "0                  4011645  \n",
              "1                  3078378  \n",
              "2                  3127536  \n",
              "3                  2374254  "
            ],
            "text/html": [
              "\n",
              "  <div id=\"df-de23cc6e-8c28-42e0-bf9f-74832c8760fa\">\n",
              "    <div class=\"colab-df-container\">\n",
              "      <div>\n",
              "<style scoped>\n",
              "    .dataframe tbody tr th:only-of-type {\n",
              "        vertical-align: middle;\n",
              "    }\n",
              "\n",
              "    .dataframe tbody tr th {\n",
              "        vertical-align: top;\n",
              "    }\n",
              "\n",
              "    .dataframe thead th {\n",
              "        text-align: right;\n",
              "    }\n",
              "</style>\n",
              "<table border=\"1\" class=\"dataframe\">\n",
              "  <thead>\n",
              "    <tr style=\"text-align: right;\">\n",
              "      <th></th>\n",
              "      <th>activity_year</th>\n",
              "      <th>brl_usd_rate</th>\n",
              "      <th>clp_usd_rate</th>\n",
              "      <th>eur_usd_rate</th>\n",
              "      <th>total_negotiated_coffee</th>\n",
              "    </tr>\n",
              "  </thead>\n",
              "  <tbody>\n",
              "    <tr>\n",
              "      <th>0</th>\n",
              "      <td>2019</td>\n",
              "      <td>0</td>\n",
              "      <td>0</td>\n",
              "      <td>0</td>\n",
              "      <td>4011645</td>\n",
              "    </tr>\n",
              "    <tr>\n",
              "      <th>1</th>\n",
              "      <td>2020</td>\n",
              "      <td>0</td>\n",
              "      <td>0</td>\n",
              "      <td>0</td>\n",
              "      <td>3078378</td>\n",
              "    </tr>\n",
              "    <tr>\n",
              "      <th>2</th>\n",
              "      <td>2021</td>\n",
              "      <td>0</td>\n",
              "      <td>0</td>\n",
              "      <td>0</td>\n",
              "      <td>3127536</td>\n",
              "    </tr>\n",
              "    <tr>\n",
              "      <th>3</th>\n",
              "      <td>2022</td>\n",
              "      <td>0</td>\n",
              "      <td>0</td>\n",
              "      <td>0</td>\n",
              "      <td>2374254</td>\n",
              "    </tr>\n",
              "  </tbody>\n",
              "</table>\n",
              "</div>\n",
              "      <button class=\"colab-df-convert\" onclick=\"convertToInteractive('df-de23cc6e-8c28-42e0-bf9f-74832c8760fa')\"\n",
              "              title=\"Convert this dataframe to an interactive table.\"\n",
              "              style=\"display:none;\">\n",
              "        \n",
              "  <svg xmlns=\"http://www.w3.org/2000/svg\" height=\"24px\"viewBox=\"0 0 24 24\"\n",
              "       width=\"24px\">\n",
              "    <path d=\"M0 0h24v24H0V0z\" fill=\"none\"/>\n",
              "    <path d=\"M18.56 5.44l.94 2.06.94-2.06 2.06-.94-2.06-.94-.94-2.06-.94 2.06-2.06.94zm-11 1L8.5 8.5l.94-2.06 2.06-.94-2.06-.94L8.5 2.5l-.94 2.06-2.06.94zm10 10l.94 2.06.94-2.06 2.06-.94-2.06-.94-.94-2.06-.94 2.06-2.06.94z\"/><path d=\"M17.41 7.96l-1.37-1.37c-.4-.4-.92-.59-1.43-.59-.52 0-1.04.2-1.43.59L10.3 9.45l-7.72 7.72c-.78.78-.78 2.05 0 2.83L4 21.41c.39.39.9.59 1.41.59.51 0 1.02-.2 1.41-.59l7.78-7.78 2.81-2.81c.8-.78.8-2.07 0-2.86zM5.41 20L4 18.59l7.72-7.72 1.47 1.35L5.41 20z\"/>\n",
              "  </svg>\n",
              "      </button>\n",
              "      \n",
              "  <style>\n",
              "    .colab-df-container {\n",
              "      display:flex;\n",
              "      flex-wrap:wrap;\n",
              "      gap: 12px;\n",
              "    }\n",
              "\n",
              "    .colab-df-convert {\n",
              "      background-color: #E8F0FE;\n",
              "      border: none;\n",
              "      border-radius: 50%;\n",
              "      cursor: pointer;\n",
              "      display: none;\n",
              "      fill: #1967D2;\n",
              "      height: 32px;\n",
              "      padding: 0 0 0 0;\n",
              "      width: 32px;\n",
              "    }\n",
              "\n",
              "    .colab-df-convert:hover {\n",
              "      background-color: #E2EBFA;\n",
              "      box-shadow: 0px 1px 2px rgba(60, 64, 67, 0.3), 0px 1px 3px 1px rgba(60, 64, 67, 0.15);\n",
              "      fill: #174EA6;\n",
              "    }\n",
              "\n",
              "    [theme=dark] .colab-df-convert {\n",
              "      background-color: #3B4455;\n",
              "      fill: #D2E3FC;\n",
              "    }\n",
              "\n",
              "    [theme=dark] .colab-df-convert:hover {\n",
              "      background-color: #434B5C;\n",
              "      box-shadow: 0px 1px 3px 1px rgba(0, 0, 0, 0.15);\n",
              "      filter: drop-shadow(0px 1px 2px rgba(0, 0, 0, 0.3));\n",
              "      fill: #FFFFFF;\n",
              "    }\n",
              "  </style>\n",
              "\n",
              "      <script>\n",
              "        const buttonEl =\n",
              "          document.querySelector('#df-de23cc6e-8c28-42e0-bf9f-74832c8760fa button.colab-df-convert');\n",
              "        buttonEl.style.display =\n",
              "          google.colab.kernel.accessAllowed ? 'block' : 'none';\n",
              "\n",
              "        async function convertToInteractive(key) {\n",
              "          const element = document.querySelector('#df-de23cc6e-8c28-42e0-bf9f-74832c8760fa');\n",
              "          const dataTable =\n",
              "            await google.colab.kernel.invokeFunction('convertToInteractive',\n",
              "                                                     [key], {});\n",
              "          if (!dataTable) return;\n",
              "\n",
              "          const docLinkHtml = 'Like what you see? Visit the ' +\n",
              "            '<a target=\"_blank\" href=https://colab.research.google.com/notebooks/data_table.ipynb>data table notebook</a>'\n",
              "            + ' to learn more about interactive tables.';\n",
              "          element.innerHTML = '';\n",
              "          dataTable['output_type'] = 'display_data';\n",
              "          await google.colab.output.renderOutput(dataTable, element);\n",
              "          const docLink = document.createElement('div');\n",
              "          docLink.innerHTML = docLinkHtml;\n",
              "          element.appendChild(docLink);\n",
              "        }\n",
              "      </script>\n",
              "    </div>\n",
              "  </div>\n",
              "  "
            ]
          },
          "metadata": {},
          "execution_count": 131
        }
      ]
    },
    {
      "cell_type": "markdown",
      "source": [
        "**highest_coffee_volume_and_currency_closing:** Total de café negociado por ano e as cotações"
      ],
      "metadata": {
        "id": "97xHZVVU_cMN"
      }
    },
    {
      "cell_type": "code",
      "source": [
        "df_highest_coffee_volume_and_currency_closing = pd.read_sql_query(highest_coffee_volume_and_currency_closing_sql, conn)\n",
        "df_highest_coffee_volume_and_currency_closing.head()"
      ],
      "metadata": {
        "id": "7rpe92pR9o60",
        "colab": {
          "base_uri": "https://localhost:8080/",
          "height": 206
        },
        "outputId": "a5f7a1de-38cf-4351-e468-0f2e4cd040ee"
      },
      "execution_count": 132,
      "outputs": [
        {
          "output_type": "execute_result",
          "data": {
            "text/plain": [
              "  activity_date  higher_coffee_volume  brl_usd_rate  clp_usd_rate  \\\n",
              "0    2019-01-02                102.65           NaN           NaN   \n",
              "1    2019-01-03                103.25           NaN           NaN   \n",
              "2    2019-01-04                103.00           NaN           NaN   \n",
              "3    2019-01-07                103.45           NaN           NaN   \n",
              "4    2019-01-08                106.05           NaN           NaN   \n",
              "\n",
              "   eur_usd_rate  \n",
              "0           NaN  \n",
              "1           NaN  \n",
              "2           NaN  \n",
              "3           NaN  \n",
              "4           NaN  "
            ],
            "text/html": [
              "\n",
              "  <div id=\"df-858163e7-3ecd-4e8a-9347-a551e5bc6e8e\">\n",
              "    <div class=\"colab-df-container\">\n",
              "      <div>\n",
              "<style scoped>\n",
              "    .dataframe tbody tr th:only-of-type {\n",
              "        vertical-align: middle;\n",
              "    }\n",
              "\n",
              "    .dataframe tbody tr th {\n",
              "        vertical-align: top;\n",
              "    }\n",
              "\n",
              "    .dataframe thead th {\n",
              "        text-align: right;\n",
              "    }\n",
              "</style>\n",
              "<table border=\"1\" class=\"dataframe\">\n",
              "  <thead>\n",
              "    <tr style=\"text-align: right;\">\n",
              "      <th></th>\n",
              "      <th>activity_date</th>\n",
              "      <th>higher_coffee_volume</th>\n",
              "      <th>brl_usd_rate</th>\n",
              "      <th>clp_usd_rate</th>\n",
              "      <th>eur_usd_rate</th>\n",
              "    </tr>\n",
              "  </thead>\n",
              "  <tbody>\n",
              "    <tr>\n",
              "      <th>0</th>\n",
              "      <td>2019-01-02</td>\n",
              "      <td>102.65</td>\n",
              "      <td>NaN</td>\n",
              "      <td>NaN</td>\n",
              "      <td>NaN</td>\n",
              "    </tr>\n",
              "    <tr>\n",
              "      <th>1</th>\n",
              "      <td>2019-01-03</td>\n",
              "      <td>103.25</td>\n",
              "      <td>NaN</td>\n",
              "      <td>NaN</td>\n",
              "      <td>NaN</td>\n",
              "    </tr>\n",
              "    <tr>\n",
              "      <th>2</th>\n",
              "      <td>2019-01-04</td>\n",
              "      <td>103.00</td>\n",
              "      <td>NaN</td>\n",
              "      <td>NaN</td>\n",
              "      <td>NaN</td>\n",
              "    </tr>\n",
              "    <tr>\n",
              "      <th>3</th>\n",
              "      <td>2019-01-07</td>\n",
              "      <td>103.45</td>\n",
              "      <td>NaN</td>\n",
              "      <td>NaN</td>\n",
              "      <td>NaN</td>\n",
              "    </tr>\n",
              "    <tr>\n",
              "      <th>4</th>\n",
              "      <td>2019-01-08</td>\n",
              "      <td>106.05</td>\n",
              "      <td>NaN</td>\n",
              "      <td>NaN</td>\n",
              "      <td>NaN</td>\n",
              "    </tr>\n",
              "  </tbody>\n",
              "</table>\n",
              "</div>\n",
              "      <button class=\"colab-df-convert\" onclick=\"convertToInteractive('df-858163e7-3ecd-4e8a-9347-a551e5bc6e8e')\"\n",
              "              title=\"Convert this dataframe to an interactive table.\"\n",
              "              style=\"display:none;\">\n",
              "        \n",
              "  <svg xmlns=\"http://www.w3.org/2000/svg\" height=\"24px\"viewBox=\"0 0 24 24\"\n",
              "       width=\"24px\">\n",
              "    <path d=\"M0 0h24v24H0V0z\" fill=\"none\"/>\n",
              "    <path d=\"M18.56 5.44l.94 2.06.94-2.06 2.06-.94-2.06-.94-.94-2.06-.94 2.06-2.06.94zm-11 1L8.5 8.5l.94-2.06 2.06-.94-2.06-.94L8.5 2.5l-.94 2.06-2.06.94zm10 10l.94 2.06.94-2.06 2.06-.94-2.06-.94-.94-2.06-.94 2.06-2.06.94z\"/><path d=\"M17.41 7.96l-1.37-1.37c-.4-.4-.92-.59-1.43-.59-.52 0-1.04.2-1.43.59L10.3 9.45l-7.72 7.72c-.78.78-.78 2.05 0 2.83L4 21.41c.39.39.9.59 1.41.59.51 0 1.02-.2 1.41-.59l7.78-7.78 2.81-2.81c.8-.78.8-2.07 0-2.86zM5.41 20L4 18.59l7.72-7.72 1.47 1.35L5.41 20z\"/>\n",
              "  </svg>\n",
              "      </button>\n",
              "      \n",
              "  <style>\n",
              "    .colab-df-container {\n",
              "      display:flex;\n",
              "      flex-wrap:wrap;\n",
              "      gap: 12px;\n",
              "    }\n",
              "\n",
              "    .colab-df-convert {\n",
              "      background-color: #E8F0FE;\n",
              "      border: none;\n",
              "      border-radius: 50%;\n",
              "      cursor: pointer;\n",
              "      display: none;\n",
              "      fill: #1967D2;\n",
              "      height: 32px;\n",
              "      padding: 0 0 0 0;\n",
              "      width: 32px;\n",
              "    }\n",
              "\n",
              "    .colab-df-convert:hover {\n",
              "      background-color: #E2EBFA;\n",
              "      box-shadow: 0px 1px 2px rgba(60, 64, 67, 0.3), 0px 1px 3px 1px rgba(60, 64, 67, 0.15);\n",
              "      fill: #174EA6;\n",
              "    }\n",
              "\n",
              "    [theme=dark] .colab-df-convert {\n",
              "      background-color: #3B4455;\n",
              "      fill: #D2E3FC;\n",
              "    }\n",
              "\n",
              "    [theme=dark] .colab-df-convert:hover {\n",
              "      background-color: #434B5C;\n",
              "      box-shadow: 0px 1px 3px 1px rgba(0, 0, 0, 0.15);\n",
              "      filter: drop-shadow(0px 1px 2px rgba(0, 0, 0, 0.3));\n",
              "      fill: #FFFFFF;\n",
              "    }\n",
              "  </style>\n",
              "\n",
              "      <script>\n",
              "        const buttonEl =\n",
              "          document.querySelector('#df-858163e7-3ecd-4e8a-9347-a551e5bc6e8e button.colab-df-convert');\n",
              "        buttonEl.style.display =\n",
              "          google.colab.kernel.accessAllowed ? 'block' : 'none';\n",
              "\n",
              "        async function convertToInteractive(key) {\n",
              "          const element = document.querySelector('#df-858163e7-3ecd-4e8a-9347-a551e5bc6e8e');\n",
              "          const dataTable =\n",
              "            await google.colab.kernel.invokeFunction('convertToInteractive',\n",
              "                                                     [key], {});\n",
              "          if (!dataTable) return;\n",
              "\n",
              "          const docLinkHtml = 'Like what you see? Visit the ' +\n",
              "            '<a target=\"_blank\" href=https://colab.research.google.com/notebooks/data_table.ipynb>data table notebook</a>'\n",
              "            + ' to learn more about interactive tables.';\n",
              "          element.innerHTML = '';\n",
              "          dataTable['output_type'] = 'display_data';\n",
              "          await google.colab.output.renderOutput(dataTable, element);\n",
              "          const docLink = document.createElement('div');\n",
              "          docLink.innerHTML = docLinkHtml;\n",
              "          element.appendChild(docLink);\n",
              "        }\n",
              "      </script>\n",
              "    </div>\n",
              "  </div>\n",
              "  "
            ]
          },
          "metadata": {},
          "execution_count": 132
        }
      ]
    },
    {
      "cell_type": "markdown",
      "source": [
        "**negotiated_coffee_average:** Média de volume negociado mensal e anual "
      ],
      "metadata": {
        "id": "VpIbkevR_bGm"
      }
    },
    {
      "cell_type": "code",
      "source": [
        "df_negotiated_coffee_average = pd.read_sql_query(negotiated_coffee_average_sql, conn)\n",
        "df_negotiated_coffee_average.head()"
      ],
      "metadata": {
        "id": "45EwFE3J_aVj",
        "colab": {
          "base_uri": "https://localhost:8080/",
          "height": 206
        },
        "outputId": "0f88c715-9c8c-4eb4-df55-c6e0f4e3fa4c"
      },
      "execution_count": 133,
      "outputs": [
        {
          "output_type": "execute_result",
          "data": {
            "text/plain": [
              "  analysis_interval activity_date  average_of_negotiated_coffee\n",
              "0            yearly          2019                  15919.226190\n",
              "1            yearly          2020                  12167.501976\n",
              "2            yearly          2021                  12410.857143\n",
              "3            yearly          2022                  14217.089820\n",
              "4           monthly       2019-01                  21827.476190"
            ],
            "text/html": [
              "\n",
              "  <div id=\"df-0ebbb042-cc66-4a16-919b-9d4cb51f0dee\">\n",
              "    <div class=\"colab-df-container\">\n",
              "      <div>\n",
              "<style scoped>\n",
              "    .dataframe tbody tr th:only-of-type {\n",
              "        vertical-align: middle;\n",
              "    }\n",
              "\n",
              "    .dataframe tbody tr th {\n",
              "        vertical-align: top;\n",
              "    }\n",
              "\n",
              "    .dataframe thead th {\n",
              "        text-align: right;\n",
              "    }\n",
              "</style>\n",
              "<table border=\"1\" class=\"dataframe\">\n",
              "  <thead>\n",
              "    <tr style=\"text-align: right;\">\n",
              "      <th></th>\n",
              "      <th>analysis_interval</th>\n",
              "      <th>activity_date</th>\n",
              "      <th>average_of_negotiated_coffee</th>\n",
              "    </tr>\n",
              "  </thead>\n",
              "  <tbody>\n",
              "    <tr>\n",
              "      <th>0</th>\n",
              "      <td>yearly</td>\n",
              "      <td>2019</td>\n",
              "      <td>15919.226190</td>\n",
              "    </tr>\n",
              "    <tr>\n",
              "      <th>1</th>\n",
              "      <td>yearly</td>\n",
              "      <td>2020</td>\n",
              "      <td>12167.501976</td>\n",
              "    </tr>\n",
              "    <tr>\n",
              "      <th>2</th>\n",
              "      <td>yearly</td>\n",
              "      <td>2021</td>\n",
              "      <td>12410.857143</td>\n",
              "    </tr>\n",
              "    <tr>\n",
              "      <th>3</th>\n",
              "      <td>yearly</td>\n",
              "      <td>2022</td>\n",
              "      <td>14217.089820</td>\n",
              "    </tr>\n",
              "    <tr>\n",
              "      <th>4</th>\n",
              "      <td>monthly</td>\n",
              "      <td>2019-01</td>\n",
              "      <td>21827.476190</td>\n",
              "    </tr>\n",
              "  </tbody>\n",
              "</table>\n",
              "</div>\n",
              "      <button class=\"colab-df-convert\" onclick=\"convertToInteractive('df-0ebbb042-cc66-4a16-919b-9d4cb51f0dee')\"\n",
              "              title=\"Convert this dataframe to an interactive table.\"\n",
              "              style=\"display:none;\">\n",
              "        \n",
              "  <svg xmlns=\"http://www.w3.org/2000/svg\" height=\"24px\"viewBox=\"0 0 24 24\"\n",
              "       width=\"24px\">\n",
              "    <path d=\"M0 0h24v24H0V0z\" fill=\"none\"/>\n",
              "    <path d=\"M18.56 5.44l.94 2.06.94-2.06 2.06-.94-2.06-.94-.94-2.06-.94 2.06-2.06.94zm-11 1L8.5 8.5l.94-2.06 2.06-.94-2.06-.94L8.5 2.5l-.94 2.06-2.06.94zm10 10l.94 2.06.94-2.06 2.06-.94-2.06-.94-.94-2.06-.94 2.06-2.06.94z\"/><path d=\"M17.41 7.96l-1.37-1.37c-.4-.4-.92-.59-1.43-.59-.52 0-1.04.2-1.43.59L10.3 9.45l-7.72 7.72c-.78.78-.78 2.05 0 2.83L4 21.41c.39.39.9.59 1.41.59.51 0 1.02-.2 1.41-.59l7.78-7.78 2.81-2.81c.8-.78.8-2.07 0-2.86zM5.41 20L4 18.59l7.72-7.72 1.47 1.35L5.41 20z\"/>\n",
              "  </svg>\n",
              "      </button>\n",
              "      \n",
              "  <style>\n",
              "    .colab-df-container {\n",
              "      display:flex;\n",
              "      flex-wrap:wrap;\n",
              "      gap: 12px;\n",
              "    }\n",
              "\n",
              "    .colab-df-convert {\n",
              "      background-color: #E8F0FE;\n",
              "      border: none;\n",
              "      border-radius: 50%;\n",
              "      cursor: pointer;\n",
              "      display: none;\n",
              "      fill: #1967D2;\n",
              "      height: 32px;\n",
              "      padding: 0 0 0 0;\n",
              "      width: 32px;\n",
              "    }\n",
              "\n",
              "    .colab-df-convert:hover {\n",
              "      background-color: #E2EBFA;\n",
              "      box-shadow: 0px 1px 2px rgba(60, 64, 67, 0.3), 0px 1px 3px 1px rgba(60, 64, 67, 0.15);\n",
              "      fill: #174EA6;\n",
              "    }\n",
              "\n",
              "    [theme=dark] .colab-df-convert {\n",
              "      background-color: #3B4455;\n",
              "      fill: #D2E3FC;\n",
              "    }\n",
              "\n",
              "    [theme=dark] .colab-df-convert:hover {\n",
              "      background-color: #434B5C;\n",
              "      box-shadow: 0px 1px 3px 1px rgba(0, 0, 0, 0.15);\n",
              "      filter: drop-shadow(0px 1px 2px rgba(0, 0, 0, 0.3));\n",
              "      fill: #FFFFFF;\n",
              "    }\n",
              "  </style>\n",
              "\n",
              "      <script>\n",
              "        const buttonEl =\n",
              "          document.querySelector('#df-0ebbb042-cc66-4a16-919b-9d4cb51f0dee button.colab-df-convert');\n",
              "        buttonEl.style.display =\n",
              "          google.colab.kernel.accessAllowed ? 'block' : 'none';\n",
              "\n",
              "        async function convertToInteractive(key) {\n",
              "          const element = document.querySelector('#df-0ebbb042-cc66-4a16-919b-9d4cb51f0dee');\n",
              "          const dataTable =\n",
              "            await google.colab.kernel.invokeFunction('convertToInteractive',\n",
              "                                                     [key], {});\n",
              "          if (!dataTable) return;\n",
              "\n",
              "          const docLinkHtml = 'Like what you see? Visit the ' +\n",
              "            '<a target=\"_blank\" href=https://colab.research.google.com/notebooks/data_table.ipynb>data table notebook</a>'\n",
              "            + ' to learn more about interactive tables.';\n",
              "          element.innerHTML = '';\n",
              "          dataTable['output_type'] = 'display_data';\n",
              "          await google.colab.output.renderOutput(dataTable, element);\n",
              "          const docLink = document.createElement('div');\n",
              "          docLink.innerHTML = docLinkHtml;\n",
              "          element.appendChild(docLink);\n",
              "        }\n",
              "      </script>\n",
              "    </div>\n",
              "  </div>\n",
              "  "
            ]
          },
          "metadata": {},
          "execution_count": 133
        }
      ]
    },
    {
      "cell_type": "code",
      "source": [
        "conn.close()"
      ],
      "metadata": {
        "id": "0STLQdQP_v2r"
      },
      "execution_count": 134,
      "outputs": []
    },
    {
      "cell_type": "code",
      "source": [],
      "metadata": {
        "id": "15OxLB2OAdhg"
      },
      "execution_count": 134,
      "outputs": []
    },
    {
      "cell_type": "markdown",
      "source": [
        "# Save SQL queries results in Google Drive"
      ],
      "metadata": {
        "id": "gFf8mK79BcIW"
      }
    },
    {
      "cell_type": "code",
      "source": [
        "from google.colab import drive\n",
        "\n",
        "drive.mount('/content/drive')"
      ],
      "metadata": {
        "id": "g1PzKDp9Bhwk",
        "colab": {
          "base_uri": "https://localhost:8080/"
        },
        "outputId": "66748a60-9757-42c2-d867-ed1b18e9f1f4"
      },
      "execution_count": 135,
      "outputs": [
        {
          "output_type": "stream",
          "name": "stdout",
          "text": [
            "Drive already mounted at /content/drive; to attempt to forcibly remount, call drive.mount(\"/content/drive\", force_remount=True).\n"
          ]
        }
      ]
    },
    {
      "cell_type": "code",
      "source": [
        "base_path = \"/content/drive/MyDrive/PismoCase/csv\""
      ],
      "metadata": {
        "id": "OjdIsIPACJF9"
      },
      "execution_count": 136,
      "outputs": []
    },
    {
      "cell_type": "code",
      "source": [
        "df_coffee_per_year_and_rates.to_csv(f\"{base_path}/coffee_per_year_and_rates.csv\", index=False)\n",
        "df_highest_coffee_volume_and_currency_closing.to_csv(f\"{base_path}/highest_coffee_volume_and_currency_closing.csv\", index=False)\n",
        "df_negotiated_coffee_average.to_csv(f\"{base_path}/negotiated_coffee_average.csv\", index=False)\n",
        "df_currency_rates.to_csv(f\"{base_path}/currency_rates.csv\", index=False)"
      ],
      "metadata": {
        "id": "I5FDPK5wBiYc"
      },
      "execution_count": 137,
      "outputs": []
    },
    {
      "cell_type": "code",
      "source": [],
      "metadata": {
        "id": "_WA1JeP4zJ_w"
      },
      "execution_count": null,
      "outputs": []
    }
  ],
  "metadata": {
    "colab": {
      "provenance": [],
      "authorship_tag": "ABX9TyNK1A6J1SblHsqkKlCjJYUx",
      "include_colab_link": true
    },
    "kernelspec": {
      "display_name": "Python 3",
      "name": "python3"
    },
    "language_info": {
      "name": "python"
    }
  },
  "nbformat": 4,
  "nbformat_minor": 0
}